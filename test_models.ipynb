{
 "cells": [
  {
   "cell_type": "code",
   "execution_count": 3,
   "metadata": {},
   "outputs": [
    {
     "name": "stdout",
     "output_type": "stream",
     "text": [
      "tensor([[ 0.8765,  2.8557,  3.3814,  ..., -0.3807, -0.0667,  1.3301],\n",
      "        [ 0.6673,  2.9604,  3.2053,  ..., -0.3216, -0.1952,  1.2214],\n",
      "        [ 0.7627,  3.0790,  3.1309,  ..., -0.2249, -0.1378,  1.2830],\n",
      "        ...,\n",
      "        [ 0.9575,  2.9741,  3.4149,  ..., -0.3904, -0.1555,  1.4111],\n",
      "        [ 0.6753,  2.9399,  3.4194,  ..., -0.3155, -0.1528,  1.3342],\n",
      "        [ 0.7045,  2.9625,  3.5924,  ..., -0.4446, -0.2486,  1.3714]],\n",
      "       device='cuda:0')\n",
      "fused res18 elapsed time: 0.16489s\n",
      "fused res18 elapsed time: 0.15363s\n",
      "fused res18 elapsed time: 0.14959s\n",
      "fused res18 elapsed time: 0.14974s\n",
      "fused res18 elapsed time: 0.14944s\n",
      "fused res18 elapsed time: 0.14996s\n",
      "fused res18 elapsed time: 0.14953s\n",
      "fused res18 elapsed time: 0.14973s\n",
      "fused res18 elapsed time: 0.14948s\n",
      "fused res18 elapsed time: 0.14982s\n"
     ]
    }
   ],
   "source": [
    "import torch\n",
    "import time\n",
    "\n",
    "\n",
    "class Timer(object):\n",
    "    def __init__(self, msg):\n",
    "        self.msg = msg\n",
    "\n",
    "    def __enter__(self):\n",
    "        self.t0 = time.time()\n",
    "\n",
    "    def __exit__(self, *args):\n",
    "        print('{0!s} elapsed time: {1:.5f}s'.format(self.msg, time.time()-self.t0))\n",
    "\n",
    "\n",
    "rn18 = torch.jit.load('models/fused_resnet18.pt')\n",
    "rn18.cuda()\n",
    "with torch.no_grad():\n",
    "    x = torch.randn(16, 3, 800, 800).cuda()\n",
    "    print(rn18(x))\n",
    "    for _ in range(10):\n",
    "        with Timer(\"fused res18\"):\n",
    "            rn18(x)\n",
    "            torch.cuda.synchronize()"
   ]
  },
  {
   "cell_type": "code",
   "execution_count": null,
   "metadata": {},
   "outputs": [],
   "source": []
  }
 ],
 "metadata": {
  "kernelspec": {
   "display_name": "Python 3",
   "language": "python",
   "name": "python3"
  },
  "language_info": {
   "codemirror_mode": {
    "name": "ipython",
    "version": 3
   },
   "file_extension": ".py",
   "mimetype": "text/x-python",
   "name": "python",
   "nbconvert_exporter": "python",
   "pygments_lexer": "ipython3",
   "version": "3.6.9"
  }
 },
 "nbformat": 4,
 "nbformat_minor": 2
}
